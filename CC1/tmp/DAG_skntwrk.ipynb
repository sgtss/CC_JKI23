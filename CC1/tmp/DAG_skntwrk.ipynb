{
 "cells": [
  {
   "cell_type": "code",
   "execution_count": 2,
   "metadata": {},
   "outputs": [
    {
     "name": "stdout",
     "output_type": "stream",
     "text": [
      "<class 'IPython.core.display.SVG'>\n"
     ]
    },
    {
     "data": {
      "image/svg+xml": "<svg xmlns=\"http://www.w3.org/2000/svg\" width=\"440\" height=\"340\">\n<path stroke-width=\"1\" stroke=\"black\" d=\"M 347 20 220 205\"/>\n<path stroke-width=\"1\" stroke=\"black\" d=\"M 347 20 420 204\"/>\n<path stroke-width=\"1\" stroke=\"black\" d=\"M 220 205 347 20\"/>\n<path stroke-width=\"1\" stroke=\"black\" d=\"M 220 205 420 204\"/>\n<path stroke-width=\"1\" stroke=\"black\" d=\"M 220 205 20 320\"/>\n<path stroke-width=\"1\" stroke=\"black\" d=\"M 420 204 347 20\"/>\n<path stroke-width=\"1\" stroke=\"black\" d=\"M 420 204 220 205\"/>\n<path stroke-width=\"1\" stroke=\"black\" d=\"M 20 320 220 205\"/>\n<circle cx=\"347\" cy=\"20\" r=\"7.0\" style=\"fill:gray;stroke:black;stroke-width:1.0\"/>\n<circle cx=\"220\" cy=\"205\" r=\"7.0\" style=\"fill:gray;stroke:black;stroke-width:1.0\"/>\n<circle cx=\"420\" cy=\"204\" r=\"7.0\" style=\"fill:gray;stroke:black;stroke-width:1.0\"/>\n<circle cx=\"20\" cy=\"320\" r=\"7.0\" style=\"fill:gray;stroke:black;stroke-width:1.0\"/>\n</svg>",
      "text/plain": [
       "<IPython.core.display.SVG object>"
      ]
     },
     "execution_count": 2,
     "metadata": {},
     "output_type": "execute_result"
    }
   ],
   "source": [
    "#!/usr/bin/env python\n",
    "\n",
    "import numpy as np\n",
    "from scipy import sparse\n",
    "import pandas as pd\n",
    "\n",
    "import sknetwork as skn\n",
    "#from sknetwork.data import from_edge_list, from_adjacency_list, from_graphml, from_csv\n",
    "from sknetwork.visualization import svg_graph, svg_bigraph\n",
    "\n",
    "from IPython.display import SVG\n",
    "\n",
    "print(SVG)\n",
    "#print(skn)\n",
    "\n",
    "adjacency = np.array([[0, 1, 1, 0], [1, 0, 1, 1], [1, 1, 0, 0], [0, 1, 0, 0]])\n",
    "\n",
    "#print(adjacency)\n",
    "\n",
    "adjacency = sparse.csr_matrix(adjacency)\n",
    "\n",
    "#print(adjacency)\n",
    "\n",
    "image = svg_graph(adjacency)\n",
    "SVG(image)"
   ]
  }
 ],
 "metadata": {
  "kernelspec": {
   "display_name": "CC_JKI23",
   "language": "python",
   "name": "python3"
  },
  "language_info": {
   "codemirror_mode": {
    "name": "ipython",
    "version": 3
   },
   "file_extension": ".py",
   "mimetype": "text/x-python",
   "name": "python",
   "nbconvert_exporter": "python",
   "pygments_lexer": "ipython3",
   "version": "3.10.9"
  },
  "orig_nbformat": 4
 },
 "nbformat": 4,
 "nbformat_minor": 2
}
